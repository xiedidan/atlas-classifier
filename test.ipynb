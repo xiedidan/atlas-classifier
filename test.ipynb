{
 "cells": [
  {
   "cell_type": "markdown",
   "metadata": {},
   "source": [
    "## Single model test\n",
    "Define contants and configs before we start:"
   ]
  },
  {
   "cell_type": "code",
   "execution_count": 1,
   "metadata": {},
   "outputs": [],
   "source": [
    "import os\n",
    "\n",
    "import torch\n",
    "import torch.nn as nn\n",
    "\n",
    "from torch.utils.data import DataLoader\n",
    "\n",
    "import torchvision\n",
    "from torchvision import datasets, models, transforms\n",
    "\n",
    "from tqdm import tqdm\n",
    "\n",
    "from classifier import create_network\n",
    "from atlas import CsvDataset, collater\n",
    "\n",
    "MULTI_CLASS_NUM = 28\n",
    "IMAGE_SIZE = 512\n",
    "SCORE_THRESHOLDS = [0.4, 0.5, 0.55, 0.6, 0.65, 0.7, 0.75, 0.8, 0.85, 0.9]\n",
    "NUM_WORKERS = 4\n",
    "\n",
    "batch_size = 96\n",
    "tag = 'ATLAS-1'\n",
    "dataset = './ATLAS'\n",
    "data_root = '/home/voyager/data/atlas/'\n",
    "# model_dir = './ATLAS-1_resnet-101_multi_1_0.5_20190125_175349/'\n",
    "# model_dir = './ATLAS-2_resnet-101_multi_1_0.5_20190130_115614/'\n",
    "model_dir = './test-1080_resnet-152_single_1_0.5_20190131_145152/'\n",
    "model_file = 'fold0_epoch1.pth'\n",
    "device_name = 'cuda:0'\n",
    "# network = 'resnet-101'\n",
    "network = 'resnet-152'\n"
   ]
  },
  {
   "cell_type": "markdown",
   "metadata": {},
   "source": [
    "Now import data:"
   ]
  },
  {
   "cell_type": "code",
   "execution_count": 2,
   "metadata": {},
   "outputs": [],
   "source": [
    "# data\n",
    "test_augmentations = transforms.Compose([\n",
    "    transforms.ToTensor()\n",
    "])\n",
    "\n",
    "test_set = CsvDataset(\n",
    "    csv_path=None,\n",
    "    data_root=data_root,\n",
    "    num_classes=MULTI_CLASS_NUM,\n",
    "    phase='test',\n",
    "    augment=test_augmentations\n",
    ")\n",
    "\n",
    "test_loader = DataLoader(\n",
    "    dataset=test_set,\n",
    "    batch_size=batch_size,\n",
    "    shuffle=False,\n",
    "    collate_fn=collater,\n",
    "    num_workers=NUM_WORKERS\n",
    ")"
   ]
  },
  {
   "cell_type": "markdown",
   "metadata": {},
   "source": [
    "Load model snapshot:"
   ]
  },
  {
   "cell_type": "code",
   "execution_count": 4,
   "metadata": {},
   "outputs": [
    {
     "ename": "RuntimeError",
     "evalue": "Error(s) in loading state_dict for ResNet:\n\tsize mismatch for fc.weight: copying a param of torch.Size([28, 2048]) from checkpoint, where the shape is torch.Size([1, 2048]) in current model.\n\tsize mismatch for fc.bias: copying a param of torch.Size([28]) from checkpoint, where the shape is torch.Size([1]) in current model.",
     "output_type": "error",
     "traceback": [
      "\u001b[0;31m---------------------------------------------------------------------------\u001b[0m",
      "\u001b[0;31mRuntimeError\u001b[0m                              Traceback (most recent call last)",
      "\u001b[0;32m<ipython-input-4-cd60b6151439>\u001b[0m in \u001b[0;36m<module>\u001b[0;34m\u001b[0m\n\u001b[1;32m     11\u001b[0m \u001b[0;34m\u001b[0m\u001b[0m\n\u001b[1;32m     12\u001b[0m \u001b[0mmodel\u001b[0m \u001b[0;34m=\u001b[0m \u001b[0mmodel\u001b[0m\u001b[0;34m.\u001b[0m\u001b[0mto\u001b[0m\u001b[0;34m(\u001b[0m\u001b[0mdevice\u001b[0m\u001b[0;34m=\u001b[0m\u001b[0mdevice\u001b[0m\u001b[0;34m)\u001b[0m\u001b[0;34m\u001b[0m\u001b[0;34m\u001b[0m\u001b[0m\n\u001b[0;32m---> 13\u001b[0;31m \u001b[0mmodel\u001b[0m\u001b[0;34m.\u001b[0m\u001b[0mload_state_dict\u001b[0m\u001b[0;34m(\u001b[0m\u001b[0mstate_dict\u001b[0m\u001b[0;34m)\u001b[0m\u001b[0;34m\u001b[0m\u001b[0;34m\u001b[0m\u001b[0m\n\u001b[0m\u001b[1;32m     14\u001b[0m \u001b[0;34m\u001b[0m\u001b[0m\n\u001b[1;32m     15\u001b[0m \u001b[0mmodel\u001b[0m\u001b[0;34m.\u001b[0m\u001b[0mtraining\u001b[0m \u001b[0;34m=\u001b[0m \u001b[0;32mFalse\u001b[0m\u001b[0;34m\u001b[0m\u001b[0;34m\u001b[0m\u001b[0m\n",
      "\u001b[0;32m~/anaconda3/envs/pytorch_0.4.1/lib/python3.6/site-packages/torch/nn/modules/module.py\u001b[0m in \u001b[0;36mload_state_dict\u001b[0;34m(self, state_dict, strict)\u001b[0m\n\u001b[1;32m    717\u001b[0m         \u001b[0;32mif\u001b[0m \u001b[0mlen\u001b[0m\u001b[0;34m(\u001b[0m\u001b[0merror_msgs\u001b[0m\u001b[0;34m)\u001b[0m \u001b[0;34m>\u001b[0m \u001b[0;36m0\u001b[0m\u001b[0;34m:\u001b[0m\u001b[0;34m\u001b[0m\u001b[0;34m\u001b[0m\u001b[0m\n\u001b[1;32m    718\u001b[0m             raise RuntimeError('Error(s) in loading state_dict for {}:\\n\\t{}'.format(\n\u001b[0;32m--> 719\u001b[0;31m                                self.__class__.__name__, \"\\n\\t\".join(error_msgs)))\n\u001b[0m\u001b[1;32m    720\u001b[0m \u001b[0;34m\u001b[0m\u001b[0m\n\u001b[1;32m    721\u001b[0m     \u001b[0;32mdef\u001b[0m \u001b[0mparameters\u001b[0m\u001b[0;34m(\u001b[0m\u001b[0mself\u001b[0m\u001b[0;34m)\u001b[0m\u001b[0;34m:\u001b[0m\u001b[0;34m\u001b[0m\u001b[0;34m\u001b[0m\u001b[0m\n",
      "\u001b[0;31mRuntimeError\u001b[0m: Error(s) in loading state_dict for ResNet:\n\tsize mismatch for fc.weight: copying a param of torch.Size([28, 2048]) from checkpoint, where the shape is torch.Size([1, 2048]) in current model.\n\tsize mismatch for fc.bias: copying a param of torch.Size([28]) from checkpoint, where the shape is torch.Size([1]) in current model."
     ]
    }
   ],
   "source": [
    "# model\n",
    "device = torch.device(device_name)\n",
    "\n",
    "model = create_network(\n",
    "    network,\n",
    "    pretrained=True,\n",
    "    num_classes=MULTI_CLASS_NUM\n",
    ")\n",
    "\n",
    "state_dict = torch.load('{}{}'.format(model_dir, model_file))\n",
    "\n",
    "model = model.to(device=device)\n",
    "model.load_state_dict(state_dict)\n",
    "\n",
    "model.training = False"
   ]
  },
  {
   "cell_type": "markdown",
   "metadata": {},
   "source": [
    "OK, predict:"
   ]
  },
  {
   "cell_type": "code",
   "execution_count": null,
   "metadata": {},
   "outputs": [],
   "source": [
    "def test(model, test_loader, device):\n",
    "    model.eval()\n",
    "    \n",
    "    all_probs = []\n",
    "    \n",
    "    with torch.no_grad():\n",
    "        with tqdm(total=len(test_loader)) as pbar:\n",
    "            for i, data in enumerate(test_loader):\n",
    "                inputs = data['images']\n",
    "                inputs = inputs.to(device=device)\n",
    "                \n",
    "                outputs = model(inputs)\n",
    "                probs = torch.sigmoid(outputs)\n",
    "                \n",
    "                all_probs.append(probs.detach().cpu())\n",
    "                    \n",
    "                pbar.update(1)\n",
    "            \n",
    "            return torch.cat(all_probs, dim=0)\n",
    "        \n",
    "results = test(model, test_loader, device)\n",
    "\n",
    "# release gmem cache\n",
    "torch.cuda.empty_cache()"
   ]
  },
  {
   "cell_type": "markdown",
   "metadata": {},
   "source": [
    "Refine the results:"
   ]
  },
  {
   "cell_type": "code",
   "execution_count": 18,
   "metadata": {},
   "outputs": [],
   "source": [
    "refined_results = [[] for i in range(len(SCORE_THRESHOLDS))]\n",
    "\n",
    "for i, score in enumerate(SCORE_THRESHOLDS):\n",
    "    score_results = torch.gt(results, score)\n",
    "    refined_results[i] = score_results"
   ]
  },
  {
   "cell_type": "markdown",
   "metadata": {},
   "source": [
    "Write out the results:"
   ]
  },
  {
   "cell_type": "code",
   "execution_count": 19,
   "metadata": {},
   "outputs": [
    {
     "name": "stdout",
     "output_type": "stream",
     "text": [
      "Written ./ATLAS-3_resnet-34_multi_1_0.5_20190130_172843/submissions/fold0_epoch59_20190131_115714_0.40.csv\n",
      "Written ./ATLAS-3_resnet-34_multi_1_0.5_20190130_172843/submissions/fold0_epoch59_20190131_115714_0.50.csv\n",
      "Written ./ATLAS-3_resnet-34_multi_1_0.5_20190130_172843/submissions/fold0_epoch59_20190131_115714_0.55.csv\n",
      "Written ./ATLAS-3_resnet-34_multi_1_0.5_20190130_172843/submissions/fold0_epoch59_20190131_115714_0.60.csv\n",
      "Written ./ATLAS-3_resnet-34_multi_1_0.5_20190130_172843/submissions/fold0_epoch59_20190131_115714_0.65.csv\n",
      "Written ./ATLAS-3_resnet-34_multi_1_0.5_20190130_172843/submissions/fold0_epoch59_20190131_115714_0.70.csv\n",
      "Written ./ATLAS-3_resnet-34_multi_1_0.5_20190130_172843/submissions/fold0_epoch59_20190131_115714_0.75.csv\n",
      "Written ./ATLAS-3_resnet-34_multi_1_0.5_20190130_172843/submissions/fold0_epoch59_20190131_115714_0.80.csv\n",
      "Written ./ATLAS-3_resnet-34_multi_1_0.5_20190130_172843/submissions/fold0_epoch59_20190131_115714_0.85.csv\n",
      "Written ./ATLAS-3_resnet-34_multi_1_0.5_20190130_172843/submissions/fold0_epoch59_20190131_115714_0.90.csv\n"
     ]
    }
   ],
   "source": [
    "from datetime import datetime\n",
    "\n",
    "now = datetime.now()\n",
    "\n",
    "def write_results(results, ids, score):\n",
    "    submission_dir = '{}submissions/'.format(model_dir)\n",
    "    model_id = model_file.split('.')[0]\n",
    "    \n",
    "    if not os.path.exists(submission_dir):\n",
    "        os.mkdir(submission_dir)\n",
    "        \n",
    "    submission_file = '{}{}_{}_{:.2f}.csv'.format(submission_dir, model_id, now.strftime('%Y%m%d_%H%M%S'), score)\n",
    "    \n",
    "    with open(submission_file, \"w\") as csv_file:\n",
    "        # write header\n",
    "        csv_file.write('Id,Predicted\\n')\n",
    "        \n",
    "        for i, result in enumerate(results):\n",
    "            image_id = ids[i]\n",
    "            \n",
    "            predicted = ''\n",
    "            for j, single_class in enumerate(result):\n",
    "                if single_class == 1:\n",
    "                    if len(predicted) == 0:\n",
    "                        predicted = '{}'.format(j)\n",
    "                    else:\n",
    "                        predicted = '{} {}'.format(predicted, j)\n",
    "                        \n",
    "            csv_file.write('{},{}\\n'.format(image_id, predicted))\n",
    "            \n",
    "        print('Written {}'.format(submission_file))\n",
    "\n",
    "for i, result in enumerate(refined_results):\n",
    "    write_results(result, test_set.image_ids, SCORE_THRESHOLDS[i])\n",
    "    "
   ]
  },
  {
   "cell_type": "code",
   "execution_count": null,
   "metadata": {},
   "outputs": [],
   "source": []
  }
 ],
 "metadata": {
  "kernelspec": {
   "display_name": "Python 3",
   "language": "python",
   "name": "python3"
  },
  "language_info": {
   "codemirror_mode": {
    "name": "ipython",
    "version": 3
   },
   "file_extension": ".py",
   "mimetype": "text/x-python",
   "name": "python",
   "nbconvert_exporter": "python",
   "pygments_lexer": "ipython3",
   "version": "3.6.7"
  }
 },
 "nbformat": 4,
 "nbformat_minor": 2
}
